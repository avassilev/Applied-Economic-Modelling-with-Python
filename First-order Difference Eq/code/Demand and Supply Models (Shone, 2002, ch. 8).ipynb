{
 "cells": [
  {
   "cell_type": "markdown",
   "id": "37d3adae",
   "metadata": {
    "slideshow": {
     "slide_type": "slide"
    }
   },
   "source": [
    "### Load packages"
   ]
  },
  {
   "cell_type": "code",
   "execution_count": 3,
   "id": "0cec7a55",
   "metadata": {},
   "outputs": [],
   "source": [
    "import numpy as np\n",
    "from matplotlib import pyplot as plt\n",
    "import sympy as sym\n",
    "from fractions import Fraction\n",
    "sym.init_printing(use_unicode=True)\n",
    "\n",
    "plt.rcParams.update({\n",
    "    \"figure.figsize\": [12, 27/4],\n",
    "    \"text.usetex\": True,\n",
    "    \"font.family\": \"serif\",\n",
    "    \"font.serif\": [\"Palatino\"],\n",
    "    \"font.size\": 12,\n",
    "    \"legend.fontsize\": 18,\n",
    "    \"axes.labelsize\": 18,  \n",
    "    \"axes.labelcolor\": \"darkred\",\n",
    "})"
   ]
  },
  {
   "cell_type": "markdown",
   "id": "f3af31b4",
   "metadata": {
    "slideshow": {
     "slide_type": "slide"
    }
   },
   "source": [
    "# The Cobweb Model (8.3)\n",
    "Model equations (given that $p_{t} \\geq 0, \\forall t$):\n",
    "$$\n",
    "    \\begin{array}{lcl}\n",
    "        q_{t}^{d} = a - bp_{t},\\quad a,b > 0\\\\\n",
    "        q_{t}^{s} = c + dp_{t-1},\\quad d > 0\\\\\n",
    "        q_{t}^{d} = q_{t}^{s} = q_{t}\n",
    "    \\end{array}\n",
    "$$\n",
    "\n",
    "Solution:\n",
    "$$\n",
    "    \\begin{array}{lcl}\n",
    "        a - bp_{t} = c - dp_{t-1}\\\\\n",
    "        \\color{red}{p_{t} = \\left(\\dfrac{a - c}{b}\\right) - \\left(\\dfrac{d}{b}\\right)p_{t-1}\\quad (*)}\n",
    "    \\end{array}\n",
    "$$\n",
    "i.e. a first-order non-homogeneous difference equation."
   ]
  },
  {
   "cell_type": "markdown",
   "id": "2470ad38",
   "metadata": {
    "slideshow": {
     "slide_type": "slide"
    }
   },
   "source": [
    "## Equilibrium:\n",
    "$$\n",
    "    \\begin{array}{lcl}\n",
    "        p_{t} = p_{t-1} = p^{*} \\Rightarrow \\color{red}{p^{*} = \\dfrac{a - c}{b + d}}\n",
    "    \\end{array}\n",
    "$$\n",
    "\n",
    "But $p_{t} \\geq 0, \\forall t \\Rightarrow p^{*} \\geq 0 \\Rightarrow a \\geq c$\n",
    "\n",
    "To solve the difference equation, write it for the equilibrium point:\n",
    "$$\n",
    "    p^{*} = \\left(\\dfrac{a - c}{b}\\right) - \\left(\\dfrac{d}{b}\\right)p^{*}\n",
    "$$\n",
    "\n",
    "and then subtract it from $(*)$ to get\n",
    "$$\n",
    "    p_{t} - p^{*} = - \\left(\\dfrac{d}{b}\\right)(p_{t-1} - p^{*})\n",
    "$$"
   ]
  },
  {
   "cell_type": "markdown",
   "id": "afd0922f",
   "metadata": {
    "slideshow": {
     "slide_type": "slide"
    }
   },
   "source": [
    "If the initial condition $p_{t} = p_{0}$ for $t = 0$ is given, then the solution is:\n",
    "$$\n",
    "    p_{t} - p^{*} = - \\left(\\dfrac{d}{b}\\right)^{t}(p_{0} - p^{*})\n",
    "$$\n",
    "\n",
    "Using the result for $p^{*}$, the latter can also be written as\n",
    "$$\n",
    "    p_{t} = \\dfrac{a - c}{b + d} - \\left(\\dfrac{d}{b}\\right)^{t}\\left(p_{0} - \\dfrac{a - c}{b + d}\\right)\n",
    "$$"
   ]
  },
  {
   "cell_type": "code",
   "execution_count": 4,
   "id": "8ced2ed5",
   "metadata": {},
   "outputs": [
    {
     "data": {
      "image/png": "[encoded data removed]",
      "text/latex": [
       "$\\displaystyle \\left(- \\frac{5}{8}\\right)^{t} C_{0} + \\frac{36}{13}$"
      ],
      "text/plain": [
       "    t      36\n",
       "-5/8 ⋅C₀ + ──\n",
       "           13"
      ]
     },
     "execution_count": 4,
     "metadata": {},
     "output_type": "execute_result"
    }
   ],
   "source": [
    "a = 20\n",
    "b = 4\n",
    "c = 2\n",
    "d = Fraction(5,2)\n",
    "p = sym.Function('p')\n",
    "t = sym.symbols('t',integer=True)\n",
    "f = p(t) + d/b*p(t-1) - Fraction(a - c, b)\n",
    "eq_sol = sym.rsolve(f,p(t))\n",
    "eq_sol"
   ]
  },
  {
   "cell_type": "markdown",
   "id": "56ed93c5",
   "metadata": {
    "slideshow": {
     "slide_type": "slide"
    }
   },
   "source": [
    "Assume $ p_{0} = 10 $"
   ]
  },
  {
   "cell_type": "code",
   "execution_count": 11,
   "id": "6a8f8430",
   "metadata": {},
   "outputs": [
    {
     "data": {
      "image/png": "[encoded data removed]",
      "text/latex": [
       "$\\displaystyle \\frac{94 \\left(- \\frac{5}{8}\\right)^{t}}{13} + \\frac{36}{13}$"
      ],
      "text/plain": [
       "       t     \n",
       "94⋅-5/8    36\n",
       "──────── + ──\n",
       "   13      13"
      ]
     },
     "execution_count": 11,
     "metadata": {},
     "output_type": "execute_result"
    }
   ],
   "source": [
    "# With initial condition\n",
    "eq_sol_final = sym.rsolve(f,p(t),{p(0):10})\n",
    "eq_sol_final"
   ]
  },
  {
   "cell_type": "markdown",
   "id": "94b21c25",
   "metadata": {},
   "source": [
    "The solution is stable, see also  the plot in the next slide.\n",
    "\n",
    "<font color = \"red\"> Note, however, that the evolution towards the solution violates the condition that the price is non-negative. </font> (we'll see why, in brief: wrong assumption concerning $p_{0}$)"
   ]
  },
  {
   "cell_type": "code",
   "execution_count": 12,
   "id": "6210c90a",
   "metadata": {
    "slideshow": {
     "slide_type": "slide"
    }
   },
   "outputs": [
    {
     "data": {
      "image/png": "[encoded data removed]",
      "text/plain": [
       "<Figure size 864x486 with 1 Axes>"
      ]
     },
     "metadata": {
      "needs_background": "light"
     },
     "output_type": "display_data"
    }
   ],
   "source": [
    "func = sym.lambdify(t, eq_sol_final,'numpy')\n",
    "xvals = np.arange(0,15,1)\n",
    "equil = [Fraction(a - c, b + d)] * 15\n",
    "yvals = func(xvals)\n",
    "\n",
    "# make figure\n",
    "fig, ax = plt.subplots(1,1,subplot_kw=None)\n",
    "ax.plot(xvals, equil, color = \"orange\")\n",
    "ax.plot(xvals, yvals)\n",
    "ax.set_xlabel('$t$')\n",
    "ax.set_ylabel('$p_{t}$')\n",
    "plt.subplots_adjust(bottom=0.15) # to avoid clipping of x-label\n",
    "plt.show()\n",
    "fig.savefig('demand_supply_sol.pdf')"
   ]
  },
  {
   "cell_type": "markdown",
   "id": "6bc876c8",
   "metadata": {
    "slideshow": {
     "slide_type": "slide"
    }
   },
   "source": [
    "<font color = \"red\">*What did we do wrong here?*</font><br>\n",
    "* A price of 10 is impossible because it would violate the logic of the demand curve. \n",
    "* The vertical intercept of this curve equals 5, and that the price that corresponds to zero quantity demanded.\n",
    "* You could now repeat all stuff using an initial price in the range $[0,5]$"
   ]
  }
 ],
 "metadata": {
  "celltoolbar": "Slideshow",
  "kernelspec": {
   "display_name": "Python 3",
   "language": "python",
   "name": "python3"
  },
  "language_info": {
   "codemirror_mode": {
    "name": "ipython",
    "version": 3
   },
   "file_extension": ".py",
   "mimetype": "text/x-python",
   "name": "python",
   "nbconvert_exporter": "python",
   "pygments_lexer": "ipython3",
   "version": "3.9.7"
  }
 },
 "nbformat": 4,
 "nbformat_minor": 5
}
