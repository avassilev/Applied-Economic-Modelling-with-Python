{
 "cells": [
  {
   "cell_type": "markdown",
   "metadata": {
    "slideshow": {
     "slide_type": "slide"
    }
   },
   "source": [
    "# Problems solved in Sydsaeter et. al (2008), Chapters 5 and 6"
   ]
  },
  {
   "cell_type": "markdown",
   "metadata": {
    "slideshow": {
     "slide_type": "slide"
    }
   },
   "source": [
    "## Load necessary Python stuff"
   ]
  },
  {
   "cell_type": "code",
   "execution_count": 1,
   "metadata": {
    "slideshow": {
     "slide_type": "-"
    }
   },
   "outputs": [],
   "source": [
    "import numpy as np\n",
    "from matplotlib import pyplot as plt\n",
    "import sympy as sym\n",
    "sym.init_printing(use_unicode=True)"
   ]
  },
  {
   "cell_type": "markdown",
   "metadata": {
    "slideshow": {
     "slide_type": "slide"
    }
   },
   "source": [
    "## Example 1 (p. 195)\n",
    "Solve the differential equation\n",
    "$$\n",
    "    \\dfrac{dx}{dt} = -2tx^{2}\n",
    "$$\n",
    "and find the integral curve that passes through $(t,x) = (1,-1)$."
   ]
  },
  {
   "cell_type": "markdown",
   "metadata": {
    "slideshow": {
     "slide_type": "slide"
    }
   },
   "source": [
    "### Solution (analytical):\n",
    "This is a separable equation so\n",
    "$$\n",
    "    -\\dfrac{dx}{x^{2}} = 2t\\,dt\n",
    "$$\n",
    "\n",
    "Integrate:\n",
    "$$\n",
    "    -\\int\\dfrac{dx}{x^{2}} = \\int 2t\\,dt\n",
    "$$\n",
    "\n",
    "$$\n",
    "    \\dfrac{1}{x} = t^{2} + C \\quad \\Rightarrow \\quad x = \\dfrac{1}{t^{2} + C}\n",
    "$$\n",
    "\n",
    "The curve that passes through $(1, -1)$:\n",
    "$$\n",
    "    -1 = \\dfrac{1}{1^2 + C} \\quad \\Rightarrow \\quad C = -2\n",
    "$$"
   ]
  },
  {
   "cell_type": "markdown",
   "metadata": {
    "slideshow": {
     "slide_type": "slide"
    }
   },
   "source": [
    "### Solution (using Sympy):"
   ]
  },
  {
   "cell_type": "code",
   "execution_count": 2,
   "metadata": {},
   "outputs": [
    {
     "data": {
      "image/png": "[encoded data removed]",
      "text/latex": [
       "$\\displaystyle x{\\left(t \\right)} = \\frac{1}{C_{1} + t^{2}}$"
      ],
      "text/plain": [
       "          1   \n",
       "x(t) = ───────\n",
       "             2\n",
       "       C₁ + t "
      ]
     },
     "execution_count": 2,
     "metadata": {},
     "output_type": "execute_result"
    }
   ],
   "source": [
    "t = sym.symbols('t')\n",
    "x = sym.symbols('x', cls=sym.Function)\n",
    "sol = sym.dsolve(x(t).diff(t) + 2*t*pow(x(t),2), x(t))\n",
    "sol"
   ]
  },
  {
   "cell_type": "code",
   "execution_count": 3,
   "metadata": {},
   "outputs": [
    {
     "data": {
      "image/png": "[encoded data removed]",
      "text/latex": [
       "$\\displaystyle \\left\\{ C_{1} : -2\\right\\}$"
      ],
      "text/plain": [
       "{C₁: -2}"
      ]
     },
     "execution_count": 3,
     "metadata": {},
     "output_type": "execute_result"
    }
   ],
   "source": [
    "C1 = sym.symbols('C1')\n",
    "constant = sym.solve([sol.args[1].subs(t,1) + 1], C1)\n",
    "constant"
   ]
  },
  {
   "cell_type": "code",
   "execution_count": 4,
   "metadata": {},
   "outputs": [
    {
     "data": {
      "image/png": "[encoded data removed]",
      "text/latex": [
       "$\\displaystyle x{\\left(t \\right)} = \\frac{1}{t^{2} - 2}$"
      ],
      "text/plain": [
       "         1   \n",
       "x(t) = ──────\n",
       "        2    \n",
       "       t  - 2"
      ]
     },
     "execution_count": 4,
     "metadata": {},
     "output_type": "execute_result"
    }
   ],
   "source": [
    "final_sol = sol.subs(constant)\n",
    "final_sol"
   ]
  },
  {
   "cell_type": "markdown",
   "metadata": {
    "slideshow": {
     "slide_type": "slide"
    }
   },
   "source": [
    "### Plot solution"
   ]
  },
  {
   "cell_type": "code",
   "execution_count": 5,
   "metadata": {
    "slideshow": {
     "slide_type": "-"
    }
   },
   "outputs": [
    {
     "data": {
      "image/png": "[encoded data removed]",
      "text/plain": [
       "<Figure size 432x288 with 1 Axes>"
      ]
     },
     "metadata": {
      "needs_background": "light"
     },
     "output_type": "display_data"
    }
   ],
   "source": [
    "func = sym.lambdify(t, final_sol.rhs,'numpy')\n",
    "xvals = np.arange(-3,3,0.1)\n",
    "yvals = func(xvals)\n",
    "\n",
    "with plt.style.context('bmh'):\n",
    "    plt.figure()\n",
    "    plt.plot(xvals, yvals)\n"
   ]
  },
  {
   "cell_type": "markdown",
   "metadata": {
    "slideshow": {
     "slide_type": "slide"
    }
   },
   "source": [
    "### Solve the problem\n",
    "$$\n",
    "    \\dot{x}(t) + 5x(t) = 11t, \\quad x(0) = 3\n",
    "$$"
   ]
  },
  {
   "cell_type": "code",
   "execution_count": 6,
   "metadata": {},
   "outputs": [
    {
     "data": {
      "image/png": "[encoded data removed]",
      "text/latex": [
       "$\\displaystyle x{\\left(t \\right)} = C_{1} e^{- 5 t} + \\frac{11 t}{5} - \\frac{11}{25}$"
      ],
      "text/plain": [
       "           -5⋅t   11⋅t   11\n",
       "x(t) = C₁⋅ℯ     + ──── - ──\n",
       "                   5     25"
      ]
     },
     "execution_count": 6,
     "metadata": {},
     "output_type": "execute_result"
    }
   ],
   "source": [
    "t = sym.symbols('t')\n",
    "x = sym.symbols('x', cls=sym.Function)\n",
    "sol = sym.dsolve(x(t).diff(t) + 5*x(t) - 11*t, x(t))\n",
    "sol"
   ]
  },
  {
   "cell_type": "code",
   "execution_count": 7,
   "metadata": {},
   "outputs": [
    {
     "data": {
      "image/png": "[encoded data removed]",
      "text/latex": [
       "$\\displaystyle \\left\\{ C_{1} : \\frac{86}{25}\\right\\}$"
      ],
      "text/plain": [
       "⎧    86⎫\n",
       "⎨C₁: ──⎬\n",
       "⎩    25⎭"
      ]
     },
     "execution_count": 7,
     "metadata": {},
     "output_type": "execute_result"
    }
   ],
   "source": [
    "C1 = sym.symbols('C1')\n",
    "constant = sym.solve([sol.args[1].subs(t,0) - 3], C1)\n",
    "constant"
   ]
  },
  {
   "cell_type": "code",
   "execution_count": 8,
   "metadata": {
    "slideshow": {
     "slide_type": "slide"
    }
   },
   "outputs": [
    {
     "data": {
      "image/png": "[encoded data removed]",
      "text/latex": [
       "$\\displaystyle x{\\left(t \\right)} = \\frac{11 t}{5} - \\frac{11}{25} + \\frac{86 e^{- 5 t}}{25}$"
      ],
      "text/plain": [
       "                       -5⋅t\n",
       "       11⋅t   11   86⋅ℯ    \n",
       "x(t) = ──── - ── + ────────\n",
       "        5     25      25   "
      ]
     },
     "execution_count": 8,
     "metadata": {},
     "output_type": "execute_result"
    }
   ],
   "source": [
    "final_sol = sol.subs(constant)\n",
    "final_sol"
   ]
  },
  {
   "cell_type": "code",
   "execution_count": 9,
   "metadata": {
    "slideshow": {
     "slide_type": "slide"
    }
   },
   "outputs": [
    {
     "data": {
      "image/png": "[encoded data removed]",
      "text/plain": [
       "<Figure size 432x288 with 1 Axes>"
      ]
     },
     "metadata": {
      "needs_background": "light"
     },
     "output_type": "display_data"
    }
   ],
   "source": [
    "func = sym.lambdify(t, final_sol.rhs,'numpy')\n",
    "xvals = np.arange(-0.5,30,0.1)\n",
    "yvals = func(xvals)\n",
    "\n",
    "with plt.style.context('bmh'):\n",
    "    plt.figure()\n",
    "    plt.plot(xvals, yvals)\n"
   ]
  },
  {
   "cell_type": "markdown",
   "metadata": {
    "slideshow": {
     "slide_type": "slide"
    }
   },
   "source": [
    "## Second-order differential equations"
   ]
  },
  {
   "cell_type": "markdown",
   "metadata": {
    "slideshow": {
     "slide_type": "-"
    }
   },
   "source": [
    "Solve the problem\n",
    "$$\n",
    "    \\ddot{x}(t) = 5\n",
    "$$"
   ]
  },
  {
   "cell_type": "markdown",
   "metadata": {},
   "source": [
    "### Solution (\"pen and paper\")\n",
    "Integrate once\n",
    "$$\n",
    "    \\int \\ddot{x}(t)\\,dt = \\dot{x}(t) = 5t + C_{1}\n",
    "$$\n",
    "\n",
    "Integrate once more\n",
    "$$\n",
    "    \\int\\dot{x}(t)\\,dt = x(t) = 5\\dfrac{t^{2}}{2} + C_{1}t + C_{2}\n",
    "$$"
   ]
  },
  {
   "cell_type": "markdown",
   "metadata": {
    "slideshow": {
     "slide_type": "slide"
    }
   },
   "source": [
    "### Solution (Sympy)"
   ]
  },
  {
   "cell_type": "code",
   "execution_count": 10,
   "metadata": {},
   "outputs": [
    {
     "data": {
      "image/png": "[encoded data removed]",
      "text/latex": [
       "$\\displaystyle x{\\left(t \\right)} = C_{1} + C_{2} t + \\frac{5 t^{2}}{2}$"
      ],
      "text/plain": [
       "                      2\n",
       "                   5⋅t \n",
       "x(t) = C₁ + C₂⋅t + ────\n",
       "                    2  "
      ]
     },
     "execution_count": 10,
     "metadata": {},
     "output_type": "execute_result"
    }
   ],
   "source": [
    "t = sym.symbols('t')\n",
    "x = sym.symbols('x', cls=sym.Function)\n",
    "sol = sym.dsolve(x(t).diff(t,2) - 5, x(t))\n",
    "sol"
   ]
  },
  {
   "cell_type": "markdown",
   "metadata": {
    "slideshow": {
     "slide_type": "slide"
    }
   },
   "source": [
    "### Example: $x$ missing (Example 2 on p. 224)\n",
    "Solve\n",
    "$$\n",
    "    \\ddot{x} = \\dot{x} + t\n",
    "$$"
   ]
  },
  {
   "cell_type": "markdown",
   "metadata": {},
   "source": [
    "### Solution\n",
    "Set $\\dot{x} = u$. The equation becomes\n",
    "$$\n",
    "    \\dot{u} = u + t \\Leftrightarrow \\dot{u} - u = t\n",
    "$$\n",
    "\n",
    "Here $ b(t) = t $ so \n",
    "\n",
    "$$\n",
    "    u(t) = e^{t}\\int t\\cdot e^{-t}\\ dt + C_{1}e^{t} \\Rightarrow u(t) = e^{t}[-e^{-t}(t+1)] + C_{1}e^{t}\n",
    "$$\n",
    "\n",
    "The solution is then (after simplification):\n",
    "$$\n",
    "    u(t) = C_{1}e^{t} - t - 1\n",
    "$$"
   ]
  },
  {
   "cell_type": "markdown",
   "metadata": {
    "slideshow": {
     "slide_type": "slide"
    }
   },
   "source": [
    "Now\n",
    "$$\n",
    "    \\dot{x} = C_{1}e^{t} - t - 1\n",
    "$$\n",
    "\n",
    "Integrate:\n",
    "$$\n",
    "    \\int \\dot{x}\\,dx = x(t) = C_{1}e^{t} - \\dfrac{t^{2}}{2} - t + C_{2}\n",
    "$$"
   ]
  },
  {
   "cell_type": "code",
   "execution_count": 11,
   "metadata": {},
   "outputs": [
    {
     "data": {
      "image/png": "[encoded data removed]",
      "text/latex": [
       "$\\displaystyle x{\\left(t \\right)} = C_{1} + C_{2} e^{t} - \\frac{t^{2}}{2} - t$"
      ],
      "text/plain": [
       "                     2    \n",
       "                t   t     \n",
       "x(t) = C₁ + C₂⋅ℯ  - ── - t\n",
       "                    2     "
      ]
     },
     "execution_count": 11,
     "metadata": {},
     "output_type": "execute_result"
    }
   ],
   "source": [
    "# Sympy\n",
    "t = sym.symbols('t')\n",
    "x = sym.symbols('x', cls=sym.Function)\n",
    "sol = sym.dsolve(x(t).diff(t,2) - x(t).diff(t) - t, x(t))\n",
    "sol"
   ]
  },
  {
   "cell_type": "markdown",
   "metadata": {
    "slideshow": {
     "slide_type": "slide"
    }
   },
   "source": [
    "## Linear second-order ODE\n",
    "### Homogeneous case\n",
    "Solve\n",
    "$$\n",
    "    \\ddot{x} - 7\\dot{x} + 12x = 0\n",
    "$$\n",
    "\n"
   ]
  },
  {
   "cell_type": "markdown",
   "metadata": {},
   "source": [
    "### Solution\n",
    "Characteristic equation:\n",
    "$$\n",
    "    r^{2} - 7r + 12 = 0\n",
    "$$\n",
    "\n",
    "Discriminant: $D = 49-48 = 1; \\quad \\sqrt{D} = 1$"
   ]
  },
  {
   "cell_type": "markdown",
   "metadata": {
    "slideshow": {
     "slide_type": "slide"
    }
   },
   "source": [
    "Roots:\n",
    "$$\n",
    "    r_{1,2} = \\dfrac{7 \\pm 1}{2}\n",
    "$$\n",
    "\n",
    "ODE Solution:\n",
    "$$\n",
    "    x(t) = C_{1}e^{4t} + C_{2}e^{3t}\n",
    "$$"
   ]
  },
  {
   "cell_type": "code",
   "execution_count": 12,
   "metadata": {},
   "outputs": [
    {
     "data": {
      "image/png": "[encoded data removed]",
      "text/latex": [
       "$\\displaystyle x{\\left(t \\right)} = \\left(C_{1} + C_{2} e^{t}\\right) e^{3 t}$"
      ],
      "text/plain": [
       "       ⎛         t⎞  3⋅t\n",
       "x(t) = ⎝C₁ + C₂⋅ℯ ⎠⋅ℯ   "
      ]
     },
     "execution_count": 12,
     "metadata": {},
     "output_type": "execute_result"
    }
   ],
   "source": [
    "# Sympy\n",
    "t = sym.symbols('t')\n",
    "x = sym.symbols('x', cls=sym.Function)\n",
    "sol = sym.dsolve(x(t).diff(t,2) - 7*x(t).diff(t) + 12*x(t), x(t))\n",
    "sol"
   ]
  },
  {
   "cell_type": "markdown",
   "metadata": {
    "slideshow": {
     "slide_type": "slide"
    }
   },
   "source": [
    "### Still the homogeneous case\n",
    "Solve\n",
    "$$\n",
    "    \\ddot{x} - 6\\dot{x} + 12x = 0\n",
    "$$\n"
   ]
  },
  {
   "cell_type": "markdown",
   "metadata": {},
   "source": [
    "### Solution\n",
    "Characteristic equation:\n",
    "$$\n",
    "    r^{2} - 6r + 12 = 0\n",
    "$$\n",
    "\n",
    "Discriminant: $D = 36-48 = -12 < 0; \\quad \\sqrt{D} = 2i\\sqrt{3}$\n",
    "    \n",
    "Roots:\n",
    "$$\n",
    "    r_{1,2} = \\dfrac{6 \\pm 2i\\sqrt{3}}{2}=3 \\pm i\\sqrt{3}\n",
    "$$"
   ]
  },
  {
   "cell_type": "markdown",
   "metadata": {
    "slideshow": {
     "slide_type": "slide"
    }
   },
   "source": [
    "$\\alpha = 3$; $\\beta = \\sqrt{3}$\n",
    "\n",
    "ODE Solution:\n",
    "$$\n",
    "    x(t) = e^{3t}\\left(C_{1}\\cos(\\sqrt{3}t) + C_{2}\\sin(\\sqrt{3}t)\\right)\n",
    "$$"
   ]
  },
  {
   "cell_type": "code",
   "execution_count": 13,
   "metadata": {},
   "outputs": [
    {
     "data": {
      "image/png": "[encoded data removed]",
      "text/latex": [
       "$\\displaystyle x{\\left(t \\right)} = \\left(C_{1} \\sin{\\left(\\sqrt{3} t \\right)} + C_{2} \\cos{\\left(\\sqrt{3} t \\right)}\\right) e^{3 t}$"
      ],
      "text/plain": [
       "                                      3⋅t\n",
       "x(t) = (C₁⋅sin(√3⋅t) + C₂⋅cos(√3⋅t))⋅ℯ   "
      ]
     },
     "execution_count": 13,
     "metadata": {},
     "output_type": "execute_result"
    }
   ],
   "source": [
    "# Sympy\n",
    "t = sym.symbols('t')\n",
    "x = sym.symbols('x', cls=sym.Function)\n",
    "sol = sym.dsolve(x(t).diff(t,2) - 6*x(t).diff(t) + 12*x(t), x(t))\n",
    "sol"
   ]
  },
  {
   "cell_type": "markdown",
   "metadata": {
    "slideshow": {
     "slide_type": "slide"
    }
   },
   "source": [
    "## Non-homogeneous (Case 1)\n",
    "Solve\n",
    "$$\n",
    "    \\ddot{x}(t) + 2\\dot{x}(t) - x(t) = 3\n",
    "$$"
   ]
  },
  {
   "cell_type": "code",
   "execution_count": 14,
   "metadata": {},
   "outputs": [
    {
     "data": {
      "image/png": "[encoded data removed]",
      "text/latex": [
       "$\\displaystyle x{\\left(t \\right)} = C_{1} e^{t \\left(-1 + \\sqrt{2}\\right)} + C_{2} e^{t \\left(- \\sqrt{2} - 1\\right)} - 3$"
      ],
      "text/plain": [
       "           t⋅(-1 + √2)       t⋅(-√2 - 1)    \n",
       "x(t) = C₁⋅ℯ            + C₂⋅ℯ            - 3"
      ]
     },
     "execution_count": 14,
     "metadata": {},
     "output_type": "execute_result"
    }
   ],
   "source": [
    "# Sympy\n",
    "t = sym.symbols('t')\n",
    "x = sym.symbols('x', cls=sym.Function)\n",
    "sol = sym.dsolve(x(t).diff(t,2) + 2*x(t).diff(t) - x(t) - 3, x(t))\n",
    "sol"
   ]
  },
  {
   "cell_type": "markdown",
   "metadata": {
    "slideshow": {
     "slide_type": "slide"
    }
   },
   "source": [
    "## Non-homogeneous (Case 2)\n",
    "Solve\n",
    "$$\n",
    "    \\ddot{x} - 4\\dot{x} + 4x = t^{2} + 2\n",
    "$$"
   ]
  },
  {
   "cell_type": "markdown",
   "metadata": {},
   "source": [
    "### Solution (by hand)\n",
    "The homogeneous solution is found as follows. Solve the characteristic equation\n",
    "$$\n",
    "    r^{2} - 4r + 4 = 0\n",
    "$$\n",
    "\n",
    "Its discriminant equals 0, so there is a double real root equal to 2. The homogeneous solution is then\n",
    "$$\n",
    "    x(t) = (C_{1} + C_{2}t)e^{2t}\n",
    "$$"
   ]
  },
  {
   "cell_type": "markdown",
   "metadata": {
    "slideshow": {
     "slide_type": "slide"
    }
   },
   "source": [
    "The RHS of the non-homogeneous equation is a quadratic polynomial, so suppose that the particular solution is\n",
    "$$\n",
    "    u^{*}(t) = At^{2} + Bt + C\n",
    "$$\n",
    "\n",
    "where $A, B, $ and $C$ are arbitrary constants. We have\n",
    "$$\n",
    "    \\dot{u}^{*}(t) = 2At + B, \\quad \\ddot{u}^{*}(t) = 2A\n",
    "$$\n",
    "\n",
    "Substitute in the equation:\n",
    "$$\n",
    "    2A - 4(2At + B) + 4(At^{2} + Bt + C) = t^2 + 2\n",
    "$$\n",
    "\n",
    "Rearrange:\n",
    "$$\n",
    "    4At^{2} - (8A - 4B)t + 2A - 4B + 4C = t^2 + 2\n",
    "$$\n",
    "\n",
    "Equating coefficient before like powers leads to:\n",
    "$$\n",
    "    A = \\dfrac{1}{4}, \\quad B = \\dfrac{1}{2}, \\quad C = \\dfrac{7}{8}\n",
    "$$"
   ]
  },
  {
   "cell_type": "markdown",
   "metadata": {
    "slideshow": {
     "slide_type": "slide"
    }
   },
   "source": [
    "Thus the general solution becomes\n",
    "$$\n",
    "    x(t) = (C_{1} + C_{2}t)e^{2t} + \\dfrac{t^{2}}{4} + \\dfrac{t}{2} + \\dfrac{7}{8}\n",
    "$$"
   ]
  },
  {
   "cell_type": "code",
   "execution_count": 15,
   "metadata": {},
   "outputs": [
    {
     "data": {
      "image/png": "[encoded data removed]",
      "text/latex": [
       "$\\displaystyle x{\\left(t \\right)} = \\frac{t^{2}}{4} + \\frac{t}{2} + \\left(C_{1} + C_{2} t\\right) e^{2 t} + \\frac{7}{8}$"
      ],
      "text/plain": [
       "        2                           \n",
       "       t    t                2⋅t   7\n",
       "x(t) = ── + ─ + (C₁ + C₂⋅t)⋅ℯ    + ─\n",
       "       4    2                      8"
      ]
     },
     "execution_count": 15,
     "metadata": {},
     "output_type": "execute_result"
    }
   ],
   "source": [
    "# Sympy\n",
    "t = sym.symbols('t')\n",
    "x = sym.symbols('x', cls=sym.Function)\n",
    "sol = sym.dsolve(x(t).diff(t,2) - 4*x(t).diff(t) + 4*x(t) - pow(t,2) - 2, x(t))\n",
    "sol"
   ]
  },
  {
   "cell_type": "markdown",
   "metadata": {
    "slideshow": {
     "slide_type": "slide"
    }
   },
   "source": [
    "## Non-homogeneous (Case 3)\n",
    "Solve\n",
    "$$\n",
    "    \\ddot{x}(t) + 7\\dot{x}(t) + 8x(t) = 15e^{3t}\n",
    "$$\n",
    "\n",
    "### Solution\n",
    "The characteristic equation is\n",
    "$$\n",
    "    r^{2} + 7r + 8 = 0\n",
    "$$\n",
    "\n",
    "Its discriminant equals $D = 49 - 32 = 17 \\Rightarrow \\sqrt{D} = \\sqrt{17}$. The roots are therefore\n",
    "$$\n",
    "    r_{1,2} = \\dfrac{-7 \\pm \\sqrt{17}}{2}\n",
    "$$\n",
    "\n",
    "The homogeneous solution is then\n",
    "$$\n",
    "    x(t) = C_{1}e^{\\frac{-7 + \\sqrt{17}}{2}t} + C_{2}e^{\\frac{-7 - \\sqrt{17}}{2}t}\n",
    "$$"
   ]
  },
  {
   "cell_type": "markdown",
   "metadata": {
    "slideshow": {
     "slide_type": "slide"
    }
   },
   "source": [
    "The particular solution should have the form $u^{*}(t) = Ae^{3t}$ where $A$ is a constant. With this,\n",
    "$$\n",
    "    \\dot{u}^{*}(t) = 3Ae^{3t}, \\quad \\ddot{u}^{*}(t) = 9Ae^{3t}.\n",
    "$$\n",
    "\n",
    "Substitute those in the equation\n",
    "$$\n",
    "    9Ae^{3t} + 21Ae^{3t} + 8Ae^{3t} = 15e^{3t}\n",
    "$$\n",
    "\n",
    "Undetermined coefficients used once again leads to $A = \\dfrac{15}{38}$. The general solution is:\n",
    "\n",
    "$$\n",
    "    x(t) = C_{1}e^{\\frac{-7 + \\sqrt{17}}{2}t} + C_{2}e^{\\frac{-7 - \\sqrt{17}}{2}t} + \\dfrac{15}{38}e^{3t}\n",
    "$$"
   ]
  },
  {
   "cell_type": "code",
   "execution_count": 16,
   "metadata": {},
   "outputs": [
    {
     "data": {
      "image/png": "[encoded data removed]",
      "text/latex": [
       "$\\displaystyle x{\\left(t \\right)} = C_{1} e^{\\frac{t \\left(-7 - \\sqrt{17}\\right)}{2}} + C_{2} e^{\\frac{t \\left(-7 + \\sqrt{17}\\right)}{2}} + \\frac{15 e^{3 t}}{38}$"
      ],
      "text/plain": [
       "           t⋅(-7 - √17)       t⋅(-7 + √17)          \n",
       "           ────────────       ────────────       3⋅t\n",
       "                2                  2         15⋅ℯ   \n",
       "x(t) = C₁⋅ℯ             + C₂⋅ℯ             + ───────\n",
       "                                                38  "
      ]
     },
     "execution_count": 16,
     "metadata": {},
     "output_type": "execute_result"
    }
   ],
   "source": [
    "# Sympy\n",
    "t = sym.symbols('t')\n",
    "x = sym.symbols('x', cls=sym.Function)\n",
    "sol = sym.dsolve(x(t).diff(t,2) + 7*x(t).diff(t) + 8*x(t) - 15*sym.exp(3*t), x(t))\n",
    "sol"
   ]
  },
  {
   "cell_type": "markdown",
   "metadata": {
    "slideshow": {
     "slide_type": "slide"
    }
   },
   "source": [
    "## Non-homogeneous (Case 4)\n",
    "Solve\n",
    "$$\n",
    "    \\ddot{x} - 4 \\dot{x} + 4x = 2\\cos (2t)\n",
    "$$\n",
    "\n",
    "### Solution\n",
    "Homogeneous equation already solved above, solution\n",
    "$$\n",
    "    x(t) = (C_{1} + C_{2}t)e^{2t}\n",
    "$$\n",
    "\n",
    "To find a particular solution, try $u^{*}(t) = A\\cos(2t)$; derivatives:\n",
    "$$\n",
    "    \\dot{u}^{*}(t) = -2A\\sin(2t), \\quad  \\ddot{u}^{*}(t) = -4A\\cos(2t)\n",
    "$$\n",
    "\n",
    "If we substitute in the equation, we will get a term including $\\sin (2t)$ on the LHS and no such in the RHS"
   ]
  },
  {
   "cell_type": "markdown",
   "metadata": {
    "slideshow": {
     "slide_type": "slide"
    }
   },
   "source": [
    "Therefore, try $u^{*}(t) = A\\cos(2t) + B\\sin(2t)$; derivatives:\n",
    "$$\n",
    "    \\dot{u}^{*}(t) = -2A\\sin(2t) + 2B\\cos(2t), \\quad \\ddot{u}^{*}(t) = -4A\\cos(2t) - 4B\\sin(2t)\n",
    "$$\n",
    "Substitute in the equation:\n",
    "$$\n",
    "    -4A\\cos(2t) - 4B\\sin(2t) + 8A\\sin(2t) - 8B\\cos(2t) + 4A\\cos(2t) + 4B\\sin(2t) = 2\\cos(2t)\n",
    "$$\n",
    "\n",
    "Simplify:\n",
    "$$\n",
    "     8A\\sin(2t) - 8B\\cos(2t) = 2\\cos(2t)\n",
    "$$\n",
    "\n",
    "From this, $A = 0, B = -\\dfrac{1}{4}$\n",
    "\n",
    "The general solution becomes\n",
    "\n",
    "$$\n",
    "    x(t) = (C_{1} + C_{2}t)e^{2t} - \\dfrac{\\sin(2t)}{4}\n",
    "$$\n",
    "    "
   ]
  },
  {
   "cell_type": "code",
   "execution_count": 17,
   "metadata": {
    "slideshow": {
     "slide_type": "slide"
    }
   },
   "outputs": [
    {
     "data": {
      "image/png": "[encoded data removed]",
      "text/latex": [
       "$\\displaystyle x{\\left(t \\right)} = \\left(C_{1} + C_{2} t\\right) e^{2 t} - \\frac{\\sin{\\left(2 t \\right)}}{4}$"
      ],
      "text/plain": [
       "                    2⋅t   sin(2⋅t)\n",
       "x(t) = (C₁ + C₂⋅t)⋅ℯ    - ────────\n",
       "                             4    "
      ]
     },
     "execution_count": 17,
     "metadata": {},
     "output_type": "execute_result"
    }
   ],
   "source": [
    "# Sympy\n",
    "t = sym.symbols('t')\n",
    "x = sym.symbols('x', cls=sym.Function)\n",
    "sol = sym.dsolve(x(t).diff(t,2) - 4*x(t).diff(t) + 4*x(t) - 2*sym.cos(2*t), x(t))\n",
    "sol"
   ]
  }
 ],
 "metadata": {
  "celltoolbar": "Slideshow",
  "kernelspec": {
   "display_name": "Python 3",
   "language": "python",
   "name": "python3"
  },
  "language_info": {
   "codemirror_mode": {
    "name": "ipython",
    "version": 3
   },
   "file_extension": ".py",
   "mimetype": "text/x-python",
   "name": "python",
   "nbconvert_exporter": "python",
   "pygments_lexer": "ipython3",
   "version": "3.9.7"
  }
 },
 "nbformat": 4,
 "nbformat_minor": 2
}
