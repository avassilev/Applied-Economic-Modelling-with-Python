{
 "cells": [
  {
   "cell_type": "markdown",
   "id": "compound-words",
   "metadata": {
    "slideshow": {
     "slide_type": "slide"
    }
   },
   "source": [
    "# Some more solved problems\n",
    "Load packages first, as usual"
   ]
  },
  {
   "cell_type": "code",
   "execution_count": 1,
   "id": "generic-floor",
   "metadata": {},
   "outputs": [],
   "source": [
    "import numpy as np\n",
    "from matplotlib import pyplot as plt\n",
    "import sympy as sym\n",
    "sym.init_printing(use_unicode=True)"
   ]
  },
  {
   "cell_type": "markdown",
   "id": "unusual-patrol",
   "metadata": {
    "slideshow": {
     "slide_type": "slide"
    }
   },
   "source": [
    "# First-order differential equations\n",
    "## Chiang and Wainwright, p. 486, Exercise 15.3\n",
    "1. $\\dfrac{dy}{dt} + 5y = 15 $\n",
    "\n",
    "**Solution**:\n",
    "$$\n",
    "    y(t) = \\dfrac{15}{5} + C_{1}\\exp(-5t) = 3 + C_{1}\\exp(-5t)\n",
    "$$"
   ]
  },
  {
   "cell_type": "code",
   "execution_count": 2,
   "id": "wooden-mandate",
   "metadata": {},
   "outputs": [
    {
     "data": {
      "image/png": "[encoded data removed]",
      "text/latex": [
       "$\\displaystyle y{\\left(t \\right)} = C_{1} e^{- 5 t} + 3$"
      ],
      "text/plain": [
       "           -5⋅t    \n",
       "y(t) = C₁⋅ℯ     + 3"
      ]
     },
     "execution_count": 2,
     "metadata": {},
     "output_type": "execute_result"
    }
   ],
   "source": [
    "t = sym.symbols('t')\n",
    "y = sym.symbols('y', cls=sym.Function)\n",
    "sol = sym.dsolve(y(t).diff(t) +5*y(t) - 15, y(t))\n",
    "sol"
   ]
  },
  {
   "cell_type": "markdown",
   "id": "operating-population",
   "metadata": {
    "slideshow": {
     "slide_type": "slide"
    }
   },
   "source": [
    "2. $ \\dfrac{dy}{dt} + 2ty = 0$\n",
    "**Solution**:\n",
    "This is a separable equation:\n",
    "$$\n",
    "    \\dfrac{dy}{y} = -2t\\,dt \\Rightarrow \\int\\dfrac{dy}{y} = -2 \\int t\\,dt \\Rightarrow \\ln y = - t^{2} + C_{0} \\Rightarrow y(t) = C_{1}\\exp(-t^{2})\n",
    "$$"
   ]
  },
  {
   "cell_type": "code",
   "execution_count": 3,
   "id": "intellectual-chicago",
   "metadata": {},
   "outputs": [
    {
     "data": {
      "image/png": "[encoded data removed]",
      "text/latex": [
       "$\\displaystyle y{\\left(t \\right)} = C_{1} e^{- t^{2}}$"
      ],
      "text/plain": [
       "             2\n",
       "           -t \n",
       "y(t) = C₁⋅ℯ   "
      ]
     },
     "execution_count": 3,
     "metadata": {},
     "output_type": "execute_result"
    }
   ],
   "source": [
    "t = sym.symbols('t')\n",
    "y = sym.symbols('y', cls=sym.Function)\n",
    "sol = sym.dsolve(y(t).diff(t) +2*t*y(t), y(t))\n",
    "sol"
   ]
  },
  {
   "cell_type": "markdown",
   "id": "supposed-closing",
   "metadata": {
    "slideshow": {
     "slide_type": "slide"
    }
   },
   "source": [
    "3. $ \\dfrac{dy}{dt} + 2ty = t, \\quad y(0) = \\dfrac{3}{2} $\n",
    "**Solution**:\n",
    "This is also a separable equation:\n",
    "$$\n",
    "    \\dfrac{dy}{1 - 2y} = t\\,dt \\Rightarrow \\int\\dfrac{dy}{1 - 2y} = \\int t\\,dt \\Rightarrow -\\dfrac{1}{2}\\ln(1 - 2y) = \\dfrac{t^{2}}{2} + C_{0} \\Rightarrow y(t) = \\dfrac{1}{2}(1 -\\exp\\left(-t^{2}\\right)C_{1})\n",
    "$$\n",
    "\n",
    "$$\n",
    "    \\quad y(0) = \\dfrac{3}{2} \\Leftrightarrow \\dfrac{1}{2}(1 -\\exp\\left(0\\right)C_{1}) = \\dfrac{3}{2} \\Rightarrow C_{1} = -2\n",
    "$$\n",
    "\n",
    "Thus,\n",
    "$$\n",
    "    y(t) = \\dfrac{1}{2} + \\exp\\left(-t^{2}\\right)\n",
    "$$"
   ]
  },
  {
   "cell_type": "code",
   "execution_count": 4,
   "id": "printable-pharmacy",
   "metadata": {
    "slideshow": {
     "slide_type": "slide"
    }
   },
   "outputs": [
    {
     "data": {
      "image/png": "[encoded data removed]",
      "text/latex": [
       "$\\displaystyle y{\\left(t \\right)} = \\frac{C_{1} e^{- t^{2}}}{2} + \\frac{1}{2}$"
      ],
      "text/plain": [
       "             2    \n",
       "           -t     \n",
       "       C₁⋅ℯ      1\n",
       "y(t) = ─────── + ─\n",
       "          2      2"
      ]
     },
     "execution_count": 4,
     "metadata": {},
     "output_type": "execute_result"
    }
   ],
   "source": [
    "t = sym.symbols('t')\n",
    "y = sym.symbols('y', cls=sym.Function)\n",
    "sol = sym.dsolve(y(t).diff(t) +2*t*y(t) - t, y(t))\n",
    "sol"
   ]
  },
  {
   "cell_type": "code",
   "execution_count": 5,
   "id": "sublime-appreciation",
   "metadata": {},
   "outputs": [
    {
     "name": "stdout",
     "output_type": "stream",
     "text": [
      "C1*exp(-t**2)/2 + 1/2\n"
     ]
    }
   ],
   "source": [
    "print(sol.args[1])"
   ]
  },
  {
   "cell_type": "code",
   "execution_count": 6,
   "id": "sharp-convention",
   "metadata": {},
   "outputs": [
    {
     "data": {
      "image/png": "[encoded data removed]",
      "text/latex": [
       "$\\displaystyle \\left\\{ C_{1} : 2.0\\right\\}$"
      ],
      "text/plain": [
       "{C₁: 2.0}"
      ]
     },
     "execution_count": 6,
     "metadata": {},
     "output_type": "execute_result"
    }
   ],
   "source": [
    "C1 = sym.symbols('C1')\n",
    "constant = sym.solve([sol.args[1].subs(t,0) - 3/2], C1)\n",
    "constant"
   ]
  },
  {
   "cell_type": "code",
   "execution_count": 7,
   "id": "featured-chance",
   "metadata": {},
   "outputs": [
    {
     "data": {
      "image/png": "[encoded data removed]",
      "text/latex": [
       "$\\displaystyle y{\\left(t \\right)} = \\frac{1}{2} + 1.0 e^{- t^{2}}$"
      ],
      "text/plain": [
       "                  2\n",
       "       1        -t \n",
       "y(t) = ─ + 1.0⋅ℯ   \n",
       "       2           "
      ]
     },
     "execution_count": 7,
     "metadata": {},
     "output_type": "execute_result"
    }
   ],
   "source": [
    "final_sol = sol.subs(constant)\n",
    "final_sol"
   ]
  },
  {
   "cell_type": "markdown",
   "id": "american-payment",
   "metadata": {
    "slideshow": {
     "slide_type": "slide"
    }
   },
   "source": [
    "4. $ \\dfrac{dy}{dt} + t^{2}y = 5t^{2}, \\quad y(0) = 6 $\n",
    "**Solution**:\n",
    "This is also a separable equation:\n",
    "$$\n",
    "    \\dfrac{dy}{(5 - y)} = t^{2}\\,dt \\Rightarrow \\int\\dfrac{dy}{(5 - y)} = \\int t^{2}\\,dt \\Rightarrow \\ln(5 - y) = -\\dfrac{t^{3}}{3} - C_{0} \\Rightarrow y(t) = 5 + \\exp\\left(-\\dfrac{t^{3}}{3}\\right)C_{1}\n",
    "$$\n",
    "\n",
    "$$\n",
    "    y(0) = 6 \\Leftrightarrow 5 + \\exp\\left(0\\right)C_{1} = 6 \\Rightarrow C_{1} = 1\n",
    "$$\n",
    "\n",
    "Thus,\n",
    "$$\n",
    "    y(t) = 5 + \\exp\\left(-\\dfrac{t^{3}}{3}\\right)\n",
    "$$"
   ]
  },
  {
   "cell_type": "code",
   "execution_count": 8,
   "id": "colored-finding",
   "metadata": {
    "slideshow": {
     "slide_type": "slide"
    }
   },
   "outputs": [
    {
     "data": {
      "image/png": "[encoded data removed]",
      "text/latex": [
       "$\\displaystyle y{\\left(t \\right)} = C_{1} e^{- \\frac{t^{3}}{3}} + 5$"
      ],
      "text/plain": [
       "             3     \n",
       "           -t      \n",
       "           ────    \n",
       "            3      \n",
       "y(t) = C₁⋅ℯ     + 5"
      ]
     },
     "execution_count": 8,
     "metadata": {},
     "output_type": "execute_result"
    }
   ],
   "source": [
    "t = sym.symbols('t')\n",
    "y = sym.symbols('y', cls=sym.Function)\n",
    "sol = sym.dsolve(y(t).diff(t) + t**2*y(t) - 5*t**2, y(t))\n",
    "sol"
   ]
  },
  {
   "cell_type": "code",
   "execution_count": 9,
   "id": "mental-capability",
   "metadata": {},
   "outputs": [
    {
     "data": {
      "image/png": "[encoded data removed]",
      "text/latex": [
       "$\\displaystyle \\left\\{ C_{1} : 1\\right\\}$"
      ],
      "text/plain": [
       "{C₁: 1}"
      ]
     },
     "execution_count": 9,
     "metadata": {},
     "output_type": "execute_result"
    }
   ],
   "source": [
    "C1 = sym.symbols('C1')\n",
    "constant = sym.solve([sol.args[1].subs(t,0) - 6], C1)\n",
    "constant"
   ]
  },
  {
   "cell_type": "code",
   "execution_count": 10,
   "id": "split-farming",
   "metadata": {},
   "outputs": [
    {
     "data": {
      "image/png": "[encoded data removed]",
      "text/latex": [
       "$\\displaystyle y{\\left(t \\right)} = 5 + e^{- \\frac{t^{3}}{3}}$"
      ],
      "text/plain": [
       "              3 \n",
       "            -t  \n",
       "            ────\n",
       "             3  \n",
       "y(t) = 5 + ℯ    "
      ]
     },
     "execution_count": 10,
     "metadata": {},
     "output_type": "execute_result"
    }
   ],
   "source": [
    "final_sol = sol.subs(constant)\n",
    "final_sol"
   ]
  },
  {
   "cell_type": "markdown",
   "id": "manual-circle",
   "metadata": {
    "slideshow": {
     "slide_type": "slide"
    }
   },
   "source": [
    "5. $ \\dfrac{dy}{dt} + 6y + e^{t} = 0, \\quad y(0) = \\dfrac{6}{7}$\n",
    "\n",
    "**Solution**:\n",
    "This is not a separable equation. Here, the free term is time-variable, and the equation is non-autonomous. Using the derived solution formula,\n",
    "$$\n",
    "    y(t) = e^{-6t}\\int -e^{t}\\cdot e^{6t}\\, dt + C_{1}e^{-6t} = -\\dfrac{e^{t}}{7} + C_{1}e^{-6t}\n",
    "$$\n",
    "\n",
    "$$\n",
    "    y(0) = \\dfrac{6}{7} \\Leftrightarrow -\\dfrac{e^{0}}{7} + C_{1}e^{0} = \\dfrac{6}{7} \\Rightarrow C_{1} = 1\n",
    "$$\n",
    "\n",
    "Thus,\n",
    "$$\n",
    "    y(t) = -\\dfrac{e^{t}}{7} + e^{-6t}\n",
    "$$"
   ]
  },
  {
   "cell_type": "code",
   "execution_count": 11,
   "id": "military-healing",
   "metadata": {
    "slideshow": {
     "slide_type": "slide"
    }
   },
   "outputs": [
    {
     "data": {
      "image/png": "[encoded data removed]",
      "text/latex": [
       "$\\displaystyle y{\\left(t \\right)} = C_{1} e^{- 6 t} - \\frac{e^{t}}{7}$"
      ],
      "text/plain": [
       "                   t\n",
       "           -6⋅t   ℯ \n",
       "y(t) = C₁⋅ℯ     - ──\n",
       "                  7 "
      ]
     },
     "execution_count": 11,
     "metadata": {},
     "output_type": "execute_result"
    }
   ],
   "source": [
    "t = sym.symbols('t')\n",
    "y = sym.symbols('y', cls=sym.Function)\n",
    "sol = sym.dsolve(y(t).diff(t) + 6*y(t) + sym.exp(t), y(t))\n",
    "sol"
   ]
  },
  {
   "cell_type": "code",
   "execution_count": 12,
   "id": "resident-fleece",
   "metadata": {},
   "outputs": [
    {
     "data": {
      "image/png": "[encoded data removed]",
      "text/latex": [
       "$\\displaystyle \\left\\{ C_{1} : 1.0\\right\\}$"
      ],
      "text/plain": [
       "{C₁: 1.0}"
      ]
     },
     "execution_count": 12,
     "metadata": {},
     "output_type": "execute_result"
    }
   ],
   "source": [
    "C1 = sym.symbols('C1')\n",
    "constant = sym.solve([sol.args[1].subs(t,0) - 6/7], C1)\n",
    "constant"
   ]
  },
  {
   "cell_type": "code",
   "execution_count": 13,
   "id": "dressed-document",
   "metadata": {},
   "outputs": [
    {
     "data": {
      "image/png": "[encoded data removed]",
      "text/latex": [
       "$\\displaystyle y{\\left(t \\right)} = - \\frac{e^{t}}{7} + 1.0 e^{- 6 t}$"
      ],
      "text/plain": [
       "          t            \n",
       "         ℯ         -6⋅t\n",
       "y(t) = - ── + 1.0⋅ℯ    \n",
       "         7             "
      ]
     },
     "execution_count": 13,
     "metadata": {},
     "output_type": "execute_result"
    }
   ],
   "source": [
    "final_sol = sol.subs(constant)\n",
    "final_sol"
   ]
  },
  {
   "cell_type": "markdown",
   "id": "adjustable-intranet",
   "metadata": {
    "slideshow": {
     "slide_type": "slide"
    }
   },
   "source": [
    "6. $ \\dfrac{dy}{dt} + y = t $ \n",
    "\n",
    "**Solution**:\n",
    "$$\n",
    "    y(t) = e^{-t}\\int t e^{t}\\, dt + C_{1}e^{-t} = e^{-t}(e^{t}t - e^{t}) + C_{1}e^{-t} = t - 1 + C_{1}e^{-t}\n",
    "$$"
   ]
  },
  {
   "cell_type": "markdown",
   "id": "closed-edward",
   "metadata": {
    "slideshow": {
     "slide_type": "slide"
    }
   },
   "source": [
    "# Second-order differential equations\n",
    "## Chiang and Wainwright, p. 611, Exercise 16.1\n",
    "2. (a) $ y''(t) + 3y'(t) - 4y = 12 $ \n",
    "\n",
    "**Solution**:\n",
    "First find the homogeneous solution:\n",
    "$$\n",
    "    D = 9 + 16 = 25 \\Rightarrow \\sqrt{D} = 5; r_{1,2} = \\dfrac{- 3 \\pm 5}{2} \\Rightarrow y(t) = C_{1}e^{t} + C_{2}e^{-4t}\n",
    "$$\n",
    "\n",
    "A particular solution is $ u^{*} = -\\dfrac{12}{4} = -3$\n",
    "\n",
    "Therefore, the general solution of the non-homogeneous case is:\n",
    "$$\n",
    "    y(t) = C_{1}e^{t} + C_{2}e^{-4t} - 3\n",
    "$$"
   ]
  },
  {
   "cell_type": "code",
   "execution_count": 14,
   "id": "breeding-settlement",
   "metadata": {
    "slideshow": {
     "slide_type": "slide"
    }
   },
   "outputs": [
    {
     "data": {
      "image/png": "[encoded data removed]",
      "text/latex": [
       "$\\displaystyle y{\\left(t \\right)} = C_{1} e^{- 4 t} + C_{2} e^{t} - 3$"
      ],
      "text/plain": [
       "           -4⋅t       t    \n",
       "y(t) = C₁⋅ℯ     + C₂⋅ℯ  - 3"
      ]
     },
     "execution_count": 14,
     "metadata": {},
     "output_type": "execute_result"
    }
   ],
   "source": [
    "t = sym.symbols('t')\n",
    "y = sym.symbols('y', cls=sym.Function)\n",
    "sol = sym.dsolve(y(t).diff(t,2) + 3*y(t).diff(t) - 4*y(t) - 12, y(t))\n",
    "sol"
   ]
  },
  {
   "cell_type": "markdown",
   "id": "statutory-victim",
   "metadata": {
    "slideshow": {
     "slide_type": "slide"
    }
   },
   "source": [
    "3. Definitize the above solution with the initial conditions $ y(0) = 4 $ and $ y'(0) = 2 $.\n",
    "\n",
    "**Solution**:\n",
    "$$\n",
    "    y(0) = 4 \\Leftrightarrow C_{1}e^{0} + C_{2}e^{0} - 3 = 4 \\Rightarrow C_{1} + C_{2} = 7\n",
    "$$\n",
    "\n",
    "$$\n",
    "    y'(t) = C_{1}e^{t} - 4C_{2}e^{-4t},\\ y'(0) = 2 \\Leftrightarrow C_{1} - 4C_{2} = 2\n",
    "$$\n",
    "\n",
    "From the above two conditions, $ C_{2} = 1 $, and $ C_{1} = 6$. Thus,\n",
    "$$\n",
    "    y(t) = 6e^{t} + e^{-4t} - 3\n",
    "$$"
   ]
  },
  {
   "cell_type": "code",
   "execution_count": 15,
   "id": "planned-baseline",
   "metadata": {},
   "outputs": [
    {
     "data": {
      "image/png": "[encoded data removed]",
      "text/latex": [
       "$\\displaystyle \\left\\{ C_{1} : 1, \\  C_{2} : 6\\right\\}$"
      ],
      "text/plain": [
       "{C₁: 1, C₂: 6}"
      ]
     },
     "execution_count": 15,
     "metadata": {},
     "output_type": "execute_result"
    }
   ],
   "source": [
    "C1, C2 = sym.symbols('C1, C2')\n",
    "constants = sym.solve([(sol.args[1].subs(t,0) - 4), (sol.args[1].diff(t).subs(t,0) - 2)], (C1,C2))\n",
    "constants"
   ]
  },
  {
   "cell_type": "markdown",
   "id": "continuous-framing",
   "metadata": {
    "slideshow": {
     "slide_type": "slide"
    }
   },
   "source": [
    "# First-order difference equations\n",
    "## Chiang and Wainwright, p. 554, Exercise 17.3\n",
    "3. Find the solutions of the following, and determine whether the time paths are oscillatory and convergent:\n",
    "\n",
    "(a) $ y_{t+1} - \\dfrac{1}{3}y_{t} = 6, \\quad y_{0} = 1$\n",
    "\n",
    "**Solution**:\n",
    "$$\n",
    "    y_{t} = \\left(\\dfrac{1}{3}\\right)^{t}\\left(y_{0} - \\dfrac{6}{1 - 1/3}\\right) + \\dfrac{6}{1 - 1/3} = \\left(\\dfrac{1}{3}\\right)^{t}\\left(y_{0} - 9\\right) + 9\n",
    "$$\n",
    "\n",
    "For $y_{0} = 1$:\n",
    "$$\n",
    "    y_{t} = \\left(\\dfrac{1}{3}\\right)^{t}\\left(1 - 9\\right) + 9 = -8\\left(\\dfrac{1}{3}\\right)^{t} + 9\n",
    "$$"
   ]
  },
  {
   "cell_type": "code",
   "execution_count": 16,
   "id": "fuzzy-ozone",
   "metadata": {
    "slideshow": {
     "slide_type": "slide"
    }
   },
   "outputs": [
    {
     "data": {
      "image/png": "[encoded data removed]",
      "text/latex": [
       "$\\displaystyle 0.333333333333333^{t} C_{0} + 9.0$"
      ],
      "text/plain": [
       "                 t         \n",
       "0.333333333333333 ⋅C₀ + 9.0"
      ]
     },
     "execution_count": 16,
     "metadata": {},
     "output_type": "execute_result"
    }
   ],
   "source": [
    "y = sym.Function('y')\n",
    "t = sym.symbols('t',integer=True)\n",
    "f = y(t)- 1/3*y(t-1) - 6\n",
    "eq_sol = sym.rsolve(f,y(t))\n",
    "eq_sol"
   ]
  },
  {
   "cell_type": "code",
   "execution_count": 17,
   "id": "interesting-costa",
   "metadata": {},
   "outputs": [
    {
     "data": {
      "image/png": "[encoded data removed]",
      "text/latex": [
       "$\\displaystyle 9.0 - 8.0 \\cdot 0.333333333333333^{t}$"
      ],
      "text/plain": [
       "                           t\n",
       "9.0 - 8.0⋅0.333333333333333 "
      ]
     },
     "execution_count": 17,
     "metadata": {},
     "output_type": "execute_result"
    }
   ],
   "source": [
    "# With initial condition\n",
    "eq_sol_final = sym.rsolve(f,y(t),{y(0):1})\n",
    "eq_sol_final"
   ]
  },
  {
   "cell_type": "code",
   "execution_count": 18,
   "id": "wrapped-television",
   "metadata": {},
   "outputs": [
    {
     "data": {
      "image/png": "[encoded data removed]",
      "text/plain": [
       "<Figure size 432x288 with 1 Axes>"
      ]
     },
     "metadata": {
      "needs_background": "light"
     },
     "output_type": "display_data"
    }
   ],
   "source": [
    "func = sym.lambdify(t, eq_sol_final,'numpy')\n",
    "xvals = np.arange(0,10,1)\n",
    "yvals = func(xvals)\n",
    "\n",
    "# make figure\n",
    "fig, ax = plt.subplots(1,1,subplot_kw=None)\n",
    "ax.plot(xvals, yvals)\n",
    "ax.set_xlabel('t')\n",
    "ax.set_ylabel('y(t)')\n",
    "plt.show()"
   ]
  },
  {
   "cell_type": "markdown",
   "id": "integrated-compatibility",
   "metadata": {
    "slideshow": {
     "slide_type": "slide"
    }
   },
   "source": [
    "(b) $ y_{t+1} + 2y_{t} = 9, \\quad y_{0} = 4 $\n",
    "\n",
    "**Solution**:\n",
    "$$\n",
    "    y_{t} = (-2)^{t}\\left(y_{0} - \\dfrac{9}{1 - (-2)}\\right) + \\dfrac{9}{1 - (-2)} = (-2)^{t}\\left(y_{0} - 3\\right) + 3\n",
    "$$\n",
    "\n",
    "For $y_{0} = 4$:\n",
    "$$\n",
    "    y_{t} = \\left(-2\\right)^{t}\\left(4 - 3\\right) + 3 = \\left(-2\\right)^{t} + 3\n",
    "$$"
   ]
  },
  {
   "cell_type": "code",
   "execution_count": 19,
   "id": "miniature-celebration",
   "metadata": {},
   "outputs": [
    {
     "data": {
      "image/png": "[encoded data removed]",
      "text/latex": [
       "$\\displaystyle \\left(-2\\right)^{t} C_{0} + 3$"
      ],
      "text/plain": [
       "    t       \n",
       "(-2) ⋅C₀ + 3"
      ]
     },
     "execution_count": 19,
     "metadata": {},
     "output_type": "execute_result"
    }
   ],
   "source": [
    "y = sym.Function('y')\n",
    "t = sym.symbols('t',integer=True)\n",
    "f = y(t) + 2*y(t-1) - 9\n",
    "eq_sol = sym.rsolve(f,y(t))\n",
    "eq_sol"
   ]
  },
  {
   "cell_type": "code",
   "execution_count": 20,
   "id": "charming-eight",
   "metadata": {},
   "outputs": [
    {
     "data": {
      "image/png": "[encoded data removed]",
      "text/latex": [
       "$\\displaystyle \\left(-2\\right)^{t} + 3$"
      ],
      "text/plain": [
       "    t    \n",
       "(-2)  + 3"
      ]
     },
     "execution_count": 20,
     "metadata": {},
     "output_type": "execute_result"
    }
   ],
   "source": [
    "# With initial condition\n",
    "eq_sol_final = sym.rsolve(f,y(t),{y(0):4})\n",
    "eq_sol_final"
   ]
  },
  {
   "cell_type": "code",
   "execution_count": 21,
   "id": "median-connecticut",
   "metadata": {
    "slideshow": {
     "slide_type": "slide"
    }
   },
   "outputs": [
    {
     "data": {
      "image/png": "[encoded data removed]",
      "text/plain": [
       "<Figure size 432x288 with 1 Axes>"
      ]
     },
     "metadata": {
      "needs_background": "light"
     },
     "output_type": "display_data"
    }
   ],
   "source": [
    "func = sym.lambdify(t, eq_sol_final,'numpy')\n",
    "xvals = np.arange(0,10,1)\n",
    "yvals = func(xvals)\n",
    "\n",
    "# make figure\n",
    "fig, ax = plt.subplots(1,1,subplot_kw=None)\n",
    "ax.plot(xvals, yvals)\n",
    "ax.set_xlabel('t')\n",
    "ax.set_ylabel('y(t)')\n",
    "plt.show()"
   ]
  },
  {
   "cell_type": "markdown",
   "id": "specialized-start",
   "metadata": {
    "slideshow": {
     "slide_type": "slide"
    }
   },
   "source": [
    "# Second-order difference equations\n",
    "## Chiang and Wainwright, p. 575, Exercise 18.1\n",
    "4. Solve the following difference equations:\n",
    "(a) $ y_{t+2} + 3y_{t+1} - \\dfrac{7}{4}y_{t} = 9,\\quad y_{0} = 6, y_{1} = 3 $\n",
    "\n",
    "**Solution**:\n",
    "First solve the homogeneous counterpart; the discriminant equals $ D = 9 + 7 = 16 $, therefore the two characteristic roots are\n",
    "$$\n",
    "    m_{1,2} = \\dfrac{-3 \\pm 4}{2}\n",
    "$$\n",
    "\n",
    "The homogeneous solution is\n",
    "$$\n",
    "    y_{t} = C_{0}\\left(\\dfrac{1}{2}\\right)^{t} + C_{1}\\left(-\\dfrac{7}{2}\\right)^{t}\n",
    "$$"
   ]
  },
  {
   "cell_type": "markdown",
   "id": "racial-slope",
   "metadata": {
    "slideshow": {
     "slide_type": "slide"
    }
   },
   "source": [
    "A particular solution is $u^{*} = \\dfrac{9}{1 + 3 - 7/4} = 4$\n",
    "\n",
    "Thus, the general solution of the non-homogeneous equation is\n",
    "$$\n",
    "    y_{t} = C_{0}\\left(\\dfrac{1}{2}\\right)^{t} + C_{1}\\left(-\\dfrac{7}{2}\\right)^{t} + 4\n",
    "$$"
   ]
  },
  {
   "cell_type": "code",
   "execution_count": 22,
   "id": "engaged-plenty",
   "metadata": {},
   "outputs": [
    {
     "data": {
      "image/png": "[encoded data removed]",
      "text/latex": [
       "$\\displaystyle \\left(-3.5\\right)^{t} C_{0} + 0.5^{t} C_{1} + 4.0$"
      ],
      "text/plain": [
       "    t         t         \n",
       "-3.5 ⋅C₀ + 0.5 ⋅C₁ + 4.0"
      ]
     },
     "execution_count": 22,
     "metadata": {},
     "output_type": "execute_result"
    }
   ],
   "source": [
    "y = sym.Function('y')\n",
    "t = sym.symbols('t',integer=True)\n",
    "f = y(t+2)+ 3*y(t+1) - 7/4*y(t) - 9\n",
    "eq_sol = sym.rsolve(f,y(t))\n",
    "eq_sol"
   ]
  },
  {
   "cell_type": "markdown",
   "id": "sensitive-scratch",
   "metadata": {
    "slideshow": {
     "slide_type": "slide"
    }
   },
   "source": [
    "Using $ y_{0} = 6, y_{1} = 3 $:\n",
    "$$\n",
    "    y_{0} = C_{0}\\left(\\dfrac{1}{2}\\right)^{0} + C_{1}\\left(-\\dfrac{7}{2}\\right)^{0} + 4 = 6 \\Rightarrow C_{0} + C_{1} = 2\n",
    "$$\n",
    "\n",
    "$$\n",
    "    y_{1} = C_{0}\\left(\\dfrac{1}{2}\\right)^{1} + C_{1}\\left(-\\dfrac{7}{2}\\right)^{1} + 4 = 3 \\Rightarrow C_{0} - 7C_{1} = -2\n",
    "$$\n",
    "\n",
    "Based on the above, $ C_{1} = 0.5 $ and $ C_{0} = 1.5 $, and the solution becomes\n",
    "$$\n",
    "    y_{t} = 1.5\\left(0.5\\right)^{t} + 0.5\\left(-3.5\\right)^{t} + 4\n",
    "$$"
   ]
  },
  {
   "cell_type": "code",
   "execution_count": 23,
   "id": "roman-template",
   "metadata": {
    "slideshow": {
     "slide_type": "slide"
    }
   },
   "outputs": [
    {
     "data": {
      "image/png": "[encoded data removed]",
      "text/latex": [
       "$\\displaystyle 0.5 \\left(-3.5\\right)^{t} + 1.5 \\cdot 0.5^{t} + 4.0$"
      ],
      "text/plain": [
       "        t          t      \n",
       "0.5⋅-3.5  + 1.5⋅0.5  + 4.0"
      ]
     },
     "execution_count": 23,
     "metadata": {},
     "output_type": "execute_result"
    }
   ],
   "source": [
    "y = sym.Function('y')\n",
    "t = sym.symbols('t',integer=True)\n",
    "f = y(t+2)+ 3*y(t+1) - 7/4*y(t) - 9\n",
    "eq_sol_final = sym.rsolve(f,y(t),{y(0):6, y(1):3})\n",
    "eq_sol_final"
   ]
  }
 ],
 "metadata": {
  "celltoolbar": "Slideshow",
  "kernelspec": {
   "display_name": "Python 3",
   "language": "python",
   "name": "python3"
  },
  "language_info": {
   "codemirror_mode": {
    "name": "ipython",
    "version": 3
   },
   "file_extension": ".py",
   "mimetype": "text/x-python",
   "name": "python",
   "nbconvert_exporter": "python",
   "pygments_lexer": "ipython3",
   "version": "3.9.7"
  }
 },
 "nbformat": 4,
 "nbformat_minor": 5
}
